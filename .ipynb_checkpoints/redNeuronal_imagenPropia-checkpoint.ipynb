{
 "cells": [
  {
   "cell_type": "markdown",
   "id": "f31affb4-ea67-43e4-8e48-854596e024f8",
   "metadata": {},
   "source": [
    "# importo librerías"
   ]
  },
  {
   "cell_type": "code",
   "execution_count": 1,
   "id": "718c8b84-3c36-4a5d-a893-264f491365c6",
   "metadata": {
    "tags": []
   },
   "outputs": [],
   "source": [
    "from keras.models import Sequential\n",
    "from keras.layers import Dense, Conv2D, Flatten\n",
    "from keras.datasets import mnist\n",
    "from keras.utils import to_categorical\n",
    "import numpy as np\n",
    "from PIL import Image"
   ]
  },
  {
   "cell_type": "markdown",
   "id": "7225ce79-998a-4bfd-b1d6-53b39e024e4e",
   "metadata": {},
   "source": [
    "# Cargar los datos de MNIST y dividirlos en conjuntos de entrenamiento y prueba"
   ]
  },
  {
   "cell_type": "code",
   "execution_count": 2,
   "id": "5bc90192-e018-4acf-84d2-338aab15c70c",
   "metadata": {
    "tags": []
   },
   "outputs": [],
   "source": [
    "(X_train, y_train), (X_test, y_test) = mnist.load_data()"
   ]
  },
  {
   "cell_type": "markdown",
   "id": "cce4944a-6d2a-47ab-bbaf-4052857c64c3",
   "metadata": {},
   "source": [
    "# Normalizar los datos para que tengan valores entre 0 y 1"
   ]
  },
  {
   "cell_type": "code",
   "execution_count": 3,
   "id": "c2b0212a-d2bb-48bc-9472-69c4f749d513",
   "metadata": {
    "tags": []
   },
   "outputs": [],
   "source": [
    "X_train = X_train / 255\n",
    "X_test = X_test / 255"
   ]
  },
  {
   "cell_type": "markdown",
   "id": "7538bf77-f42c-4b7a-a68e-0ce7321b11cf",
   "metadata": {},
   "source": [
    "# Convertir las etiquetas en una matriz codificada en caliente (one-hot)"
   ]
  },
  {
   "cell_type": "code",
   "execution_count": 4,
   "id": "73907ef8-1198-4347-b6b7-00c99f3e459d",
   "metadata": {
    "tags": []
   },
   "outputs": [],
   "source": [
    "y_train = to_categorical(y_train)\n",
    "y_test = to_categorical(y_test)"
   ]
  },
  {
   "cell_type": "markdown",
   "id": "f8feebdd-0080-49e9-83d7-2f656e7c6d59",
   "metadata": {},
   "source": [
    "# Agregar una dimensión extra para representar los canales de color (en este caso, solo hay un canal en escala de grises)\n"
   ]
  },
  {
   "cell_type": "code",
   "execution_count": 5,
   "id": "41d8b1f1-b2a9-41da-8a9c-95204778fc37",
   "metadata": {
    "tags": []
   },
   "outputs": [],
   "source": [
    "X_train = X_train.reshape((X_train.shape[0], 28, 28, 1))\n",
    "X_test = X_test.reshape((X_test.shape[0], 28, 28, 1))"
   ]
  },
  {
   "cell_type": "markdown",
   "id": "871714e4-336d-47b6-bf33-6b79156ad003",
   "metadata": {},
   "source": [
    "# Crear el modelo de la red neuronal convolucional"
   ]
  },
  {
   "cell_type": "code",
   "execution_count": 6,
   "id": "f527d525-e9ef-497a-ba2d-a4c10f43fae2",
   "metadata": {
    "tags": []
   },
   "outputs": [],
   "source": [
    "model = Sequential()\n",
    "model.add(Conv2D(32, kernel_size=(3, 3), activation='relu', input_shape=(28, 28, 1)))\n",
    "model.add(Conv2D(64, kernel_size=(3, 3), activation='relu'))\n",
    "model.add(Flatten())\n",
    "model.add(Dense(10, activation='softmax'))"
   ]
  },
  {
   "cell_type": "markdown",
   "id": "c0aede57-0c9d-4eb9-9162-30fadb4afbbc",
   "metadata": {},
   "source": [
    "# Compilar el modelo con la función de pérdida y el optimizador seleccionados\n"
   ]
  },
  {
   "cell_type": "code",
   "execution_count": 7,
   "id": "ef2769f2-3394-4ac0-a4ed-4097d87011bc",
   "metadata": {
    "tags": []
   },
   "outputs": [],
   "source": [
    "model.compile(optimizer='adam', loss='categorical_crossentropy', metrics=['accuracy'])\n"
   ]
  },
  {
   "cell_type": "markdown",
   "id": "df3b396c-e4a6-4276-972e-64eafbfa93ac",
   "metadata": {},
   "source": [
    "# Entrenar el modelo con los datos de entrenamiento\n"
   ]
  },
  {
   "cell_type": "code",
   "execution_count": null,
   "id": "f7392f24-2e3e-447a-8ec9-c8d73e82f527",
   "metadata": {
    "tags": []
   },
   "outputs": [
    {
     "name": "stdout",
     "output_type": "stream",
     "text": [
      "Epoch 1/10\n",
      "143/300 [=============>................] - ETA: 32s - loss: 0.3312 - accuracy: 0.9060"
     ]
    }
   ],
   "source": [
    "model.fit(X_train, y_train, validation_data=(X_test, y_test), epochs=10, batch_size=200)\n"
   ]
  },
  {
   "cell_type": "markdown",
   "id": "8189e951-03af-440b-8504-5761602ff9a6",
   "metadata": {},
   "source": [
    "# Evaluar la precisión del modelo en los datos de prueba\n"
   ]
  },
  {
   "cell_type": "code",
   "execution_count": null,
   "id": "f6a54bf8-45d6-447d-82fa-b6b700b2a317",
   "metadata": {
    "tags": []
   },
   "outputs": [],
   "source": [
    "score = model.evaluate(X_test, y_test, verbose=0)\n",
    "print('Test loss:', score[0])\n",
    "print('Test accuracy:', score[1])"
   ]
  },
  {
   "cell_type": "markdown",
   "id": "f7671d41-e74f-4fc4-9e23-b56b6a10eb7b",
   "metadata": {},
   "source": [
    "# Cargar una imagen de un número (28x28 píxeles) y convertirla en un array de numpy\n"
   ]
  },
  {
   "cell_type": "code",
   "execution_count": null,
   "id": "6f67a79f-b54c-467c-9030-8033f0fa9930",
   "metadata": {
    "tags": []
   },
   "outputs": [],
   "source": [
    "img = Image.open('seis.jpg').convert('L')\n",
    "img = img.resize((28, 28))\n",
    "img = np.array(img)\n",
    "img = img.reshape((1, 28, 28, 1))\n",
    "img = img / 255"
   ]
  },
  {
   "cell_type": "markdown",
   "id": "e47ee7fa-e609-4699-bce5-8570e71adc0e",
   "metadata": {},
   "source": [
    "# Usar el modelo para predecir el número en la imagen de entrada\n"
   ]
  },
  {
   "cell_type": "code",
   "execution_count": null,
   "id": "77233fd3-1192-4473-b5d0-2c4bffb0ab4b",
   "metadata": {
    "tags": []
   },
   "outputs": [],
   "source": [
    "prediction = model.predict(img)\n",
    "print(np.argmax(prediction))"
   ]
  },
  {
   "cell_type": "code",
   "execution_count": null,
   "id": "d6e75c1b-e32f-43f7-a943-82f80cadac43",
   "metadata": {},
   "outputs": [],
   "source": []
  }
 ],
 "metadata": {
  "kernelspec": {
   "display_name": "Python 3 (ipykernel)",
   "language": "python",
   "name": "python3"
  },
  "language_info": {
   "codemirror_mode": {
    "name": "ipython",
    "version": 3
   },
   "file_extension": ".py",
   "mimetype": "text/x-python",
   "name": "python",
   "nbconvert_exporter": "python",
   "pygments_lexer": "ipython3",
   "version": "3.11.2"
  }
 },
 "nbformat": 4,
 "nbformat_minor": 5
}

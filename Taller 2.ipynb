{
 "cells": [
  {
   "cell_type": "markdown",
   "id": "02d730b5-8c17-4a13-9e87-5065604a377f",
   "metadata": {},
   "source": [
    "# Declaro Variables"
   ]
  },
  {
   "cell_type": "code",
   "execution_count": 1,
   "id": "1085b13c-863f-4f04-b419-57722d465fb3",
   "metadata": {
    "tags": []
   },
   "outputs": [],
   "source": [
    "import cv2\n",
    "import numpy as np\n",
    "from matplotlib import pyplot as plt"
   ]
  },
  {
   "cell_type": "markdown",
   "id": "c5f5ea31-8364-4911-8624-09e5bb141924",
   "metadata": {},
   "source": [
    "# Importo Imagen"
   ]
  },
  {
   "cell_type": "code",
   "execution_count": 2,
   "id": "e36e4496-89ad-4f07-b168-dc337e575a52",
   "metadata": {
    "tags": []
   },
   "outputs": [],
   "source": [
    "img = cv2.imread('yeah.jpg', 0)\n",
    "img2 = img.copy()"
   ]
  },
  {
   "cell_type": "markdown",
   "id": "3af7259c-43ea-406c-a76d-29e7aad72ef2",
   "metadata": {},
   "source": [
    "# Detección de Bordes Sobel Norte"
   ]
  },
  {
   "cell_type": "code",
   "execution_count": 3,
   "id": "92d6f898-44d7-441a-909b-432100b69925",
   "metadata": {
    "tags": []
   },
   "outputs": [],
   "source": [
    "edge_kernel = np.array([[-1, 0, 1], [-2, 0, 2], [-1, 0, 1]])\n",
    "img3 = cv2.filter2D(img2, -1, edge_kernel)"
   ]
  },
  {
   "cell_type": "markdown",
   "id": "b6974298-b0cd-4a94-b1d4-3e82629e6f2c",
   "metadata": {},
   "source": [
    "# Detección de Bordes Sobel Noreste"
   ]
  },
  {
   "cell_type": "code",
   "execution_count": 4,
   "id": "5d76a5f0-27a4-4263-b24e-9abcf2401409",
   "metadata": {
    "tags": []
   },
   "outputs": [],
   "source": [
    "edge_kernel = np.array([[-2, -1, 0], [-1, 0, 1], [0, 1, 2]])\n",
    "img4 = cv2.filter2D(img2, -1, edge_kernel)"
   ]
  },
  {
   "cell_type": "markdown",
   "id": "b75338d8-3697-43bd-9233-abc919c29551",
   "metadata": {},
   "source": [
    "# Detección de Bordes Sobel Este"
   ]
  },
  {
   "cell_type": "code",
   "execution_count": 5,
   "id": "d52ca467-9c37-4710-9765-72a28de5c297",
   "metadata": {
    "tags": []
   },
   "outputs": [],
   "source": [
    "edge_kernel = np.array([[-1, -2, -1], [0, 0, 0], [1, 2, 1]])\n",
    "img5 = cv2.filter2D(img2, -1, edge_kernel)"
   ]
  },
  {
   "cell_type": "markdown",
   "id": "d55332e1-69ca-4e69-be0d-831557c092d1",
   "metadata": {},
   "source": [
    "# Detección de Bordes Sobel Sureste"
   ]
  },
  {
   "cell_type": "code",
   "execution_count": 6,
   "id": "a8750816-ad95-4847-be07-bcfcb4898fa5",
   "metadata": {
    "tags": []
   },
   "outputs": [],
   "source": [
    "edge_kernel = np.array([[0, -1, -2], [1, 0, -1], [2, 1, 0]])\n",
    "img6 = cv2.filter2D(img2, -1, edge_kernel)"
   ]
  },
  {
   "cell_type": "markdown",
   "id": "1c885ddc-98b9-47f7-9ab1-ad846bd4ad1e",
   "metadata": {},
   "source": [
    "# Detección de Bordes Sobel Sur"
   ]
  },
  {
   "cell_type": "code",
   "execution_count": 7,
   "id": "dfbee1ce-4fd6-41a5-b39c-f8294f99436d",
   "metadata": {
    "tags": []
   },
   "outputs": [],
   "source": [
    "edge_kernel = np.array([[1, 0, -1], [2, 0, -2], [1, 0, -1]])\n",
    "img7 = cv2.filter2D(img2, -1, edge_kernel)"
   ]
  },
  {
   "cell_type": "markdown",
   "id": "f7fbaa87-d256-4bff-933b-75854e5213e8",
   "metadata": {},
   "source": [
    "# Detección de Bordes Sobel Suroeste"
   ]
  },
  {
   "cell_type": "code",
   "execution_count": 8,
   "id": "92e7b55c-c33e-44b8-9f82-ff80a4ebbad3",
   "metadata": {
    "tags": []
   },
   "outputs": [],
   "source": [
    "edge_kernel = np.array([[2, 1, 0], [1, 0, -1], [0, -1, -2]])\n",
    "img8 = cv2.filter2D(img2, -1, edge_kernel)"
   ]
  },
  {
   "cell_type": "markdown",
   "id": "0f67bb84-4f5e-4fef-b9d0-c70b0ba2350e",
   "metadata": {},
   "source": [
    "# Detección de Bordes Sobel Oeste"
   ]
  },
  {
   "cell_type": "code",
   "execution_count": 9,
   "id": "ef0c6443-e28b-4693-bdf3-81f33fdb6002",
   "metadata": {
    "tags": []
   },
   "outputs": [],
   "source": [
    "edge_kernel = np.array([[1, 2, 1], [0, 0, 0], [-1, -2, -1]])\n",
    "img9 = cv2.filter2D(img2, -1, edge_kernel)"
   ]
  },
  {
   "cell_type": "markdown",
   "id": "b81e98c1-1a03-4b82-a1eb-f96aafc06437",
   "metadata": {},
   "source": [
    "# Detección de Bordes Sobel Noroeste"
   ]
  },
  {
   "cell_type": "code",
   "execution_count": 10,
   "id": "471fbc87-fc3a-4b3d-8a6d-677c7b21043b",
   "metadata": {
    "tags": []
   },
   "outputs": [],
   "source": [
    "edge_kernel = np.array([[-1, -1, -1], [-1, 8, -1], [-1, -1, -1]])\n",
    "img10 = cv2.filter2D(img2, -1, edge_kernel)"
   ]
  },
  {
   "cell_type": "markdown",
   "id": "7d858bcd-8777-4810-89a3-10fa0b45a6a0",
   "metadata": {},
   "source": [
    "# Creación de Matriz de Subplots"
   ]
  },
  {
   "cell_type": "code",
   "execution_count": 11,
   "id": "b78e8dfd-c48e-4a76-a1d7-7bbcb03219d3",
   "metadata": {
    "tags": []
   },
   "outputs": [
    {
     "data": {
      "image/png": "[encoded data removed]",
      "text/plain": [
       "<Figure size 800x1000 with 9 Axes>"
      ]
     },
     "metadata": {},
     "output_type": "display_data"
    }
   ],
   "source": [
    "fig, axs = plt.subplots(nrows=3, ncols=3, figsize=(8, 10))"
   ]
  },
  {
   "cell_type": "markdown",
   "id": "c440c2ff-5f03-42b2-92b9-d35dd2800353",
   "metadata": {},
   "source": [
    "# Llenar Cada Subplot con Cada Imagen "
   ]
  },
  {
   "cell_type": "code",
   "execution_count": 12,
   "id": "22d6e28f-251f-487a-8357-d52332ceccff",
   "metadata": {
    "tags": []
   },
   "outputs": [
    {
     "data": {
      "text/plain": [
       "Text(0.5, 1.0, 'Sobel Noroeste')"
      ]
     },
     "execution_count": 12,
     "metadata": {},
     "output_type": "execute_result"
    }
   ],
   "source": [
    "axs[0][0].imshow(img, cmap=\"gray\")\n",
    "axs[0][0].axis(\"off\")\n",
    "axs[0][0].set_title('Imagen original')\n",
    "\n",
    "axs[0][1].imshow(img3, cmap=\"gray\")\n",
    "axs[0][1].axis(\"off\")\n",
    "axs[0][1].set_title('Sobel Norte')\n",
    "\n",
    "axs[0][2].imshow(img4, cmap=\"gray\")\n",
    "axs[0][2].axis(\"off\")\n",
    "axs[0][2].set_title('Sobel Noreste')\n",
    "\n",
    "axs[1][0].imshow(img5, cmap=\"gray\")\n",
    "axs[1][0].axis(\"off\")\n",
    "axs[1][0].set_title('Sobel Este')\n",
    "\n",
    "axs[1][1].imshow(img6, cmap=\"gray\")\n",
    "axs[1][1].axis(\"off\")\n",
    "axs[1][1].set_title('Sobel Sureste')\n",
    "\n",
    "axs[1][2].imshow(img7, cmap=\"gray\")\n",
    "axs[1][2].axis(\"off\")\n",
    "axs[1][2].set_title('Sobel Sur')\n",
    "\n",
    "axs[2][0].imshow(img8, cmap=\"gray\")\n",
    "axs[2][0].axis(\"off\")\n",
    "axs[2][0].set_title('Sobel Suroeste')\n",
    "\n",
    "axs[2][1].imshow(img9, cmap=\"gray\")\n",
    "axs[2][1].axis(\"off\")\n",
    "axs[2][1].set_title('Sobel Oeste')\n",
    "\n",
    "axs[2][2].imshow(img10, cmap=\"gray\")\n",
    "axs[2][2].axis(\"off\")\n",
    "axs[2][2].set_title('Sobel Noroeste')"
   ]
  },
  {
   "cell_type": "markdown",
   "id": "93389190-1804-4d63-aa22-74ab55489939",
   "metadata": {},
   "source": [
    "# Imprimir"
   ]
  },
  {
   "cell_type": "code",
   "execution_count": 13,
   "id": "b7503cd8-2e2c-43fb-8e7e-b011c6954e66",
   "metadata": {
    "tags": []
   },
   "outputs": [],
   "source": [
    "plt.show()"
   ]
  },
  {
   "cell_type": "code",
   "execution_count": null,
   "id": "d7d9a2ef-2c87-4205-a253-974773504ab3",
   "metadata": {},
   "outputs": [],
   "source": []
  }
 ],
 "metadata": {
  "kernelspec": {
   "display_name": "Python 3 (ipykernel)",
   "language": "python",
   "name": "python3"
  },
  "language_info": {
   "codemirror_mode": {
    "name": "ipython",
    "version": 3
   },
   "file_extension": ".py",
   "mimetype": "text/x-python",
   "name": "python",
   "nbconvert_exporter": "python",
   "pygments_lexer": "ipython3",
   "version": "3.11.2"
  }
 },
 "nbformat": 4,
 "nbformat_minor": 5
}
